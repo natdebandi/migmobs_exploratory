{
  "nbformat": 4,
  "nbformat_minor": 0,
  "metadata": {
    "colab": {
      "provenance": [],
      "mount_file_id": "1aVPMuggQifslGdOdOd7mlLh0RWdTgApX",
      "authorship_tag": "ABX9TyNjS6B89t8vKUElPe7gI0wc",
      "include_colab_link": true
    },
    "kernelspec": {
      "name": "python3",
      "display_name": "Python 3"
    },
    "language_info": {
      "name": "python"
    }
  },
  "cells": [
    {
      "cell_type": "markdown",
      "metadata": {
        "id": "view-in-github",
        "colab_type": "text"
      },
      "source": [
        "<a href=\"https://colab.research.google.com/github/natdebandi/migmobs_exploratory/blob/main/personal_mobility.ipynb\" target=\"_parent\"><img src=\"https://colab.research.google.com/assets/colab-badge.svg\" alt=\"Open In Colab\"/></a>"
      ]
    },
    {
      "cell_type": "markdown",
      "source": [
        "## Prueba para mostrar trayectoria de google individual\n",
        "\n",
        "Bajar de GOOGLE TAKEOUT  la trayectoria"
      ],
      "metadata": {
        "id": "MwgibyPkG71C"
      }
    },
    {
      "cell_type": "code",
      "source": [
        "# prompt: open a csv file forma drive folder\n",
        "\n",
        "from google.colab import drive\n",
        "drive.mount('/content/drive', force_remount=True)"
      ],
      "metadata": {
        "colab": {
          "base_uri": "https://localhost:8080/"
        },
        "id": "OqRKDYNlG7l0",
        "outputId": "6b56d0bf-86d2-42ae-ea45-0b8814c664ff"
      },
      "execution_count": 1,
      "outputs": [
        {
          "output_type": "stream",
          "name": "stdout",
          "text": [
            "Mounted at /content/drive\n"
          ]
        }
      ]
    },
    {
      "cell_type": "code",
      "source": [],
      "metadata": {
        "id": "jZBQCaJZIKaj"
      },
      "execution_count": null,
      "outputs": []
    },
    {
      "cell_type": "code",
      "execution_count": null,
      "metadata": {
        "id": "y_x9PRnCGzcb"
      },
      "outputs": [],
      "source": [
        "import json\n",
        "import folium\n",
        "from folium.plugins import PolyLineOffset\n",
        "import pandas as pd\n",
        "\n",
        "def cargar_datos(file_path):\n",
        "    with open(file_path, \"r\", encoding=\"utf-8\") as file:\n",
        "        data = json.load(file)\n",
        "    return data\n",
        "\n",
        "def extraer_coordenadas(data):\n",
        "    coordenadas = []\n",
        "    if \"locations\" in data:\n",
        "        for loc in data[\"locations\"]:\n",
        "            lat = loc.get(\"latitudeE7\", 0) / 1e7\n",
        "            lon = loc.get(\"longitudeE7\", 0) / 1e7\n",
        "            coordenadas.append((lat, lon))\n",
        "    return coordenadas\n",
        "\n",
        "def crear_mapa(coordenadas, output_file=\"mapa_trayectoria.html\"):\n",
        "    if not coordenadas:\n",
        "        print(\"No hay coordenadas para mostrar en el mapa.\")\n",
        "        return\n",
        "\n",
        "    mapa = folium.Map(location=coordenadas[0], zoom_start=12)\n",
        "    folium.Marker(coordenadas[0], popup=\"Inicio\", icon=folium.Icon(color=\"green\")).add_to(mapa)\n",
        "    folium.Marker(coordenadas[-1], popup=\"Fin\", icon=folium.Icon(color=\"red\")).add_to(mapa)\n",
        "\n",
        "    folium.PolyLine(coordenadas, color=\"blue\", weight=2.5, opacity=0.7).add_to(mapa)\n",
        "    mapa.save(output_file)\n",
        "    print(f\"Mapa guardado como {output_file}\")\n",
        "\n"
      ]
    },
    {
      "cell_type": "code",
      "source": [
        "# Replace 'your_file_path' with the actual path to your CSV file in Google Drive\n",
        "file_path = '/content/drive/MyDrive/3. Proyectos/MIGMOBS_nat/3_data_repository/db_migracion.csv'\n",
        "\n"
      ],
      "metadata": {
        "id": "s6epV96KIUlu"
      },
      "execution_count": null,
      "outputs": []
    },
    {
      "cell_type": "code",
      "source": [
        "if __name__ == \"__main__\":\n",
        "    archivo_json = \"path_a_tu_archivo.json\"  # Cambia esto por la ruta correcta\n",
        "    datos = cargar_datos(archivo_json)\n",
        "    coordenadas = extraer_coordenadas(datos)\n",
        "    crear_mapa(coordenadas)\n"
      ],
      "metadata": {
        "id": "TySBwA8aISEv"
      },
      "execution_count": null,
      "outputs": []
    }
  ]
}